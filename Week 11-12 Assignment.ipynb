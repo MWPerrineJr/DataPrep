{
 "cells": [
  {
   "cell_type": "markdown",
   "id": "05323b7d",
   "metadata": {},
   "source": [
    "#### Michael Perrine\n",
    "#### Week 11-12 Assignment\n",
    "#### DSC 540\n",
    "#### Professor Williams\n",
    "\n",
    "\n",
    "<h1><center>Activity 8.01</center></h1>"
   ]
  },
  {
   "cell_type": "code",
   "execution_count": 5,
   "id": "556861d3",
   "metadata": {},
   "outputs": [],
   "source": [
    "# This code imports the necessary libraries\n",
    "import sqlite3"
   ]
  },
  {
   "cell_type": "code",
   "execution_count": null,
   "id": "8b431132",
   "metadata": {},
   "outputs": [],
   "source": [
    "# This code connects to the pets database\n",
    "pets = sqlite3.connect('petsdb')"
   ]
  },
  {
   "cell_type": "code",
   "execution_count": null,
   "id": "de229915",
   "metadata": {},
   "outputs": [],
   "source": [
    "# This code creates a function to open the database \n",
    "# and includes a try block\n",
    "def is_opened(pets):\n",
    "    try:\n",
    "        pets.execute('SELECT * FROM persons LIMIT 1')\n",
    "        return True\n",
    "    except sqlite3.ProgrammingError as e:\n",
    "        print('Connection ended {}'.format(e))\n",
    "        return False\n",
    "    print(is_opened(pets))"
   ]
  },
  {
   "cell_type": "code",
   "execution_count": null,
   "id": "c1c7ad4f",
   "metadata": {},
   "outputs": [],
   "source": [
    "# This code closes the pets database\n",
    "pets.close()"
   ]
  },
  {
   "cell_type": "code",
   "execution_count": null,
   "id": "46126b9a",
   "metadata": {},
   "outputs": [
    {
     "name": "stdout",
     "output_type": "stream",
     "text": [
      "Connection ended Cannot operate on a closed database.\n",
      "False\n"
     ]
    }
   ],
   "source": [
    "# This code confirms the database is closed\n",
    "print(is_opened(pets))"
   ]
  },
  {
   "cell_type": "code",
   "execution_count": null,
   "id": "7c5b8ad7",
   "metadata": {},
   "outputs": [],
   "source": [
    "# This code connects to the pets database and creates\n",
    "# the cursor object to call data\n",
    "pets= sqlite3.connect('petsdb')\n",
    "p = pets.cursor()"
   ]
  },
  {
   "cell_type": "markdown",
   "id": "58e63be5",
   "metadata": {},
   "source": [
    " 1. What is the count of people belonging to different age groups in the persons table?"
   ]
  },
  {
   "cell_type": "code",
   "execution_count": null,
   "id": "3166161f",
   "metadata": {},
   "outputs": [
    {
     "name": "stdout",
     "output_type": "stream",
     "text": [
      "There are 2 people aged 5\n",
      "There are 1 people aged 6\n",
      "There are 1 people aged 7\n",
      "There are 3 people aged 8\n",
      "There are 1 people aged 9\n",
      "There are 2 people aged 11\n",
      "There are 3 people aged 12\n",
      "There are 1 people aged 13\n",
      "There are 4 people aged 14\n",
      "There are 2 people aged 16\n",
      "There are 2 people aged 17\n",
      "There are 3 people aged 18\n",
      "There are 1 people aged 19\n",
      "There are 3 people aged 22\n",
      "There are 2 people aged 23\n",
      "There are 3 people aged 24\n",
      "There are 2 people aged 25\n",
      "There are 1 people aged 27\n",
      "There are 1 people aged 30\n",
      "There are 3 people aged 31\n",
      "There are 1 people aged 32\n",
      "There are 1 people aged 33\n",
      "There are 2 people aged 34\n",
      "There are 3 people aged 35\n",
      "There are 3 people aged 36\n",
      "There are 1 people aged 37\n",
      "There are 2 people aged 39\n",
      "There are 1 people aged 40\n",
      "There are 1 people aged 42\n",
      "There are 2 people aged 44\n",
      "There are 2 people aged 48\n",
      "There are 1 people aged 49\n",
      "There are 1 people aged 50\n",
      "There are 2 people aged 51\n",
      "There are 2 people aged 52\n",
      "There are 2 people aged 53\n",
      "There are 2 people aged 54\n",
      "There are 1 people aged 58\n",
      "There are 1 people aged 59\n",
      "There are 1 people aged 60\n",
      "There are 1 people aged 61\n",
      "There are 2 people aged 62\n",
      "There are 1 people aged 63\n",
      "There are 2 people aged 65\n",
      "There are 2 people aged 66\n",
      "There are 1 people aged 67\n",
      "There are 3 people aged 68\n",
      "There are 1 people aged 69\n",
      "There are 1 people aged 70\n",
      "There are 4 people aged 71\n",
      "There are 1 people aged 72\n",
      "There are 5 people aged 73\n",
      "There are 3 people aged 74\n"
     ]
    }
   ],
   "source": [
    "# This code selects people and ages and groups them by age\n",
    "for ppl, age in p.execute('SELECT count(*), age FROM persons GROUP BY age'):\n",
    "    print('There are {} people aged {}'.format(ppl, age))"
   ]
  },
  {
   "cell_type": "markdown",
   "id": "b52dc12e",
   "metadata": {},
   "source": [
    "2. Which age group has the maximum number of people?"
   ]
  },
  {
   "cell_type": "code",
   "execution_count": 18,
   "id": "d73e84f4",
   "metadata": {},
   "outputs": [
    {
     "name": "stdout",
     "output_type": "stream",
     "text": [
      "The highest number of people is 5 and came from the 73 age group\n"
     ]
    }
   ],
   "source": [
    "# This code orders people from highest to lowest\n",
    "for ppl, age in p.execute('SELECT count(*), age FROM persons GROUP BY age ORDER BY count(*) DESC'):\n",
    "    print('The highest number of people is {} and came from the {} age group'.format(ppl, age))\n",
    "    break"
   ]
  },
  {
   "cell_type": "markdown",
   "id": "5d3673e0",
   "metadata": {},
   "source": [
    "3. How many people do not have a last name?"
   ]
  },
  {
   "cell_type": "code",
   "execution_count": null,
   "id": "00a17682",
   "metadata": {},
   "outputs": [
    {
     "name": "stdout",
     "output_type": "stream",
     "text": [
      "(60,)\n"
     ]
    }
   ],
   "source": [
    "# This code counts the number of entries with no last name\n",
    "l_name = p.execute('SELECT count(*) FROM persons WHERE last_name IS null') \n",
    "for row in l_name:\n",
    "    print(row)"
   ]
  },
  {
   "cell_type": "markdown",
   "id": "2122f8c0",
   "metadata": {},
   "source": [
    "4. How many people have more than one pet?"
   ]
  },
  {
   "cell_type": "code",
   "execution_count": 20,
   "id": "0f68ee2b",
   "metadata": {},
   "outputs": [
    {
     "name": "stdout",
     "output_type": "stream",
     "text": [
      "43 people with multiple pets\n"
     ]
    }
   ],
   "source": [
    "# This code counts entries with multiple pets\n",
    "p_count = p.execute('SELECT count(*) FROM (SELECT count(owner_id) FROM pets GROUP BY owner_id HAVING count(owner_id) >1)')\n",
    "for row in p_count:\n",
    "    print('{} people with multiple pets'.format(row[0]))\n",
    "    \n"
   ]
  },
  {
   "cell_type": "markdown",
   "id": "8b88c774",
   "metadata": {},
   "source": [
    "5. How many pets have received treatment?"
   ]
  },
  {
   "cell_type": "code",
   "execution_count": 22,
   "id": "44d06d1c",
   "metadata": {},
   "outputs": [
    {
     "name": "stdout",
     "output_type": "stream",
     "text": [
      "(36,)\n"
     ]
    }
   ],
   "source": [
    "# This code filters pets that received treatment\n",
    "p_treat = p.execute('SELECT count(*) FROM pets WHERE treatment_done = 1')\n",
    "for row in p_treat:\n",
    "    print(row)"
   ]
  },
  {
   "cell_type": "markdown",
   "id": "41cc7b08",
   "metadata": {},
   "source": [
    "6. How many pets have received treatment, and the type of pet is known?\n"
   ]
  },
  {
   "cell_type": "code",
   "execution_count": 24,
   "id": "1700ffc2",
   "metadata": {},
   "outputs": [
    {
     "name": "stdout",
     "output_type": "stream",
     "text": [
      "(16,)\n"
     ]
    }
   ],
   "source": [
    "# This code counts the number of known pets that\n",
    "# received treatment\n",
    "p_known = p.execute('SELECT count(*) FROM pets WHERE treatment_done =1 AND pet_type IS NOT null')\n",
    "for row in p_known:\n",
    "    print(row)"
   ]
  },
  {
   "cell_type": "markdown",
   "id": "30b529db",
   "metadata": {},
   "source": [
    "7. How many pets are from the city called East Port?"
   ]
  },
  {
   "cell_type": "code",
   "execution_count": 25,
   "id": "927293fe",
   "metadata": {},
   "outputs": [
    {
     "name": "stdout",
     "output_type": "stream",
     "text": [
      "(49,)\n"
     ]
    }
   ],
   "source": [
    "# This code filters and counts pets from East Port\n",
    "p_city = p.execute(\"SELECT count(*) FROM pets JOIN persons ON pets.owner_id = persons.id WHERE persons.city ='east port'\")\n",
    "for row in p_city:\n",
    "    print(row)"
   ]
  },
  {
   "cell_type": "markdown",
   "id": "2cc6c84c",
   "metadata": {},
   "source": [
    "8. How many pets are from the city called East Port, and who received treatment?"
   ]
  },
  {
   "cell_type": "code",
   "execution_count": 26,
   "id": "4364f4be",
   "metadata": {},
   "outputs": [
    {
     "name": "stdout",
     "output_type": "stream",
     "text": [
      "(11,)\n"
     ]
    }
   ],
   "source": [
    "# This code filters pets from East Port and \n",
    "# received treatment\n",
    "p_treat_city = p.execute('SELECT count(*) FROM pets JOIN persons ON pets.owner_id = persons.id WHERE persons.city = \"east port\" AND pets.treatment_done=1')\n",
    "for row in p_treat_city:\n",
    "    print(row)"
   ]
  }
 ],
 "metadata": {
  "kernelspec": {
   "display_name": "data_prep",
   "language": "python",
   "name": "python3"
  },
  "language_info": {
   "codemirror_mode": {
    "name": "ipython",
    "version": 3
   },
   "file_extension": ".py",
   "mimetype": "text/x-python",
   "name": "python",
   "nbconvert_exporter": "python",
   "pygments_lexer": "ipython3",
   "version": "3.13.2"
  }
 },
 "nbformat": 4,
 "nbformat_minor": 5
}
